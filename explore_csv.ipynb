{
 "cells": [
  {
   "cell_type": "code",
   "execution_count": 2,
   "id": "f8ffa8c0-4bfd-45c1-bf99-9a5360199ece",
   "metadata": {
    "tags": []
   },
   "outputs": [],
   "source": [
    "import pandas as pd\n",
    "import matplotlib\n",
    "import matplotlib.pyplot as plt\n",
    "import numpy as np\n",
    "import datetime as dt\n",
    "from datetime import datetime\n",
    "import openpyxl\n",
    "matplotlib.pyplot.close()"
   ]
  },
  {
   "cell_type": "markdown",
   "id": "99315c49-c703-4bb9-9d93-ea006151b591",
   "metadata": {
    "tags": []
   },
   "source": [
    "## Import Data from CSV\n",
    "Data comes in as a CSV file. Make python just... turn it into a dataframe for me.\n",
    "26.3MB\n",
    "\n",
    "### Convert Data formats\n",
    "\n",
    "Useful functions: \n",
    "* .dt.at_time()\n",
    "* .dt.between_time(): DataFrame.between_time(start_time, end_time, inclusive='both', axis=None)[source]\n",
    "    * Select values between particular times of the day (e.g., 9:00-9:30 AM).\n",
    "    * By setting start_time to be later than end_time, you can get the times that are not between the two times."
   ]
  },
  {
   "cell_type": "code",
   "execution_count": 3,
   "id": "f29db7e3-b6be-4f51-b6ff-5499f90b3675",
   "metadata": {
    "tags": []
   },
   "outputs": [
    {
     "name": "stdout",
     "output_type": "stream",
     "text": [
      "<class 'pandas.core.frame.DataFrame'>\n",
      "Int64Index: 300000 entries, 1423854 to 1021247\n",
      "Data columns (total 11 columns):\n",
      " #   Column         Non-Null Count   Dtype          \n",
      "---  ------         --------------   -----          \n",
      " 0   Start Time     300000 non-null  datetime64[ns] \n",
      " 1   End Time       300000 non-null  datetime64[ns] \n",
      " 2   Start Station  300000 non-null  object         \n",
      " 3   End Station    300000 non-null  object         \n",
      " 4   User Type      300000 non-null  category       \n",
      " 5   Gender         238948 non-null  object         \n",
      " 6   Birth Year     300000 non-null  int32          \n",
      " 7   Duration       300000 non-null  timedelta64[ns]\n",
      " 8   Month          300000 non-null  object         \n",
      " 9   Day            300000 non-null  object         \n",
      " 10  ETime          300000 non-null  datetime64[ns] \n",
      "dtypes: category(1), datetime64[ns](3), int32(1), object(5), timedelta64[ns](1)\n",
      "memory usage: 24.3+ MB\n"
     ]
    }
   ],
   "source": [
    "df = pd.read_csv(\"chicago.csv\", parse_dates=[\"Start Time\",\"End Time\"],index_col=0)\n",
    "#df[\"Rental Period\"] = pd.to_period()\n",
    "df['User Type'] = df['User Type'].astype(\"category\")\n",
    "df[\"Duration\"] = pd.to_timedelta(df[\"Trip Duration\"],'sec')\n",
    "df[\"Birth Year\"] = df[\"Birth Year\"].fillna(0).astype(int)\n",
    "df.drop(columns=[\"Trip Duration\"],inplace=True)\n",
    "df[\"Month\"] = df[\"Start Time\"].dt.month_name()\n",
    "df[\"Day\"] = df[\"Start Time\"].dt.date\n",
    "df[\"ETime\"] = [x.replace(year=1970, month=1, day = 1) for x in pd.to_datetime(df[\"Start Time\"],format)] #.replace(year=2017, month=1, day = 1)\n",
    "df.info()\n",
    "\n",
    "df.sort_values(by=['ETime'], inplace=True)\n",
    "#df"
   ]
  },
  {
   "cell_type": "markdown",
   "id": "1925d730-608c-4058-aaa6-ad285dc14637",
   "metadata": {
    "jp-MarkdownHeadingCollapsed": true,
    "tags": []
   },
   "source": [
    "## Exploration"
   ]
  },
  {
   "cell_type": "code",
   "execution_count": 310,
   "id": "884d6110-b3af-422a-82c4-195ed7abdd63",
   "metadata": {
    "tags": []
   },
   "outputs": [
    {
     "data": {
      "text/plain": [
       "User Type   Gender\n",
       "Subscriber  Male      181107\n",
       "            Female     57749\n",
       "Customer    Male          82\n",
       "            Female         9\n",
       "Dependent   Male           1\n",
       "dtype: int64"
      ]
     },
     "execution_count": 310,
     "metadata": {},
     "output_type": "execute_result"
    }
   ],
   "source": [
    "df.value_counts(subset=['User Type','Gender'])"
   ]
  },
  {
   "cell_type": "code",
   "execution_count": 246,
   "id": "ad4eed76-287d-480d-b577-468a17455a73",
   "metadata": {
    "tags": []
   },
   "outputs": [
    {
     "name": "stdout",
     "output_type": "stream",
     "text": [
      "                      ETime        Duration\n",
      "1433491 1970-01-01 00:00:00 0 days 00:16:08\n",
      "865090  1970-01-01 00:00:00 0 days 00:09:43\n",
      "1271868 1970-01-01 00:00:01 0 days 00:04:54\n",
      "1202508 1970-01-01 00:00:02 0 days 00:46:37\n",
      "1081023 1970-01-01 00:00:02 0 days 01:13:34\n",
      "...                     ...             ...\n",
      "600685  1970-01-01 23:59:57 0 days 00:02:06\n",
      "1283140 1970-01-01 23:59:58 0 days 00:25:32\n",
      "879384  1970-01-01 23:59:58 0 days 00:02:24\n",
      "1416663 1970-01-01 23:59:59 0 days 00:07:38\n",
      "899821  1970-01-01 23:59:59 0 days 00:09:43\n",
      "\n",
      "[300000 rows x 2 columns]\n"
     ]
    },
    {
     "data": {
      "text/plain": [
       "array([[<Axes: title={'center': 'Duration'}>]], dtype=object)"
      ]
     },
     "execution_count": 246,
     "metadata": {},
     "output_type": "execute_result"
    },
    {
     "data": {
      "image/png": "[encoded data removed]",
      "text/plain": [
       "<Figure size 640x480 with 1 Axes>"
      ]
     },
     "metadata": {},
     "output_type": "display_data"
    }
   ],
   "source": [
    "df2 = df.take([10,7],'columns')\n",
    "print(df2)\n",
    "df3 = df2.groupby([\"ETime\"]).count()\n",
    "df3.hist()"
   ]
  },
  {
   "cell_type": "markdown",
   "id": "b4e3fcc8-3f27-496a-9af3-652fc6220949",
   "metadata": {
    "jp-MarkdownHeadingCollapsed": true,
    "tags": []
   },
   "source": [
    "## Steps to transform chamber data\n",
    "\n",
    "1. Shift on status column to get a subtable of all times where the status changed\n",
    "2. Grab the range of time in a purge as \"less than next status time\"\n",
    "3. Remove irrelevant or unwanted statuses (keep \"purge\", \"ready\")\n",
    "4. Remaining purge-to-purge slices are now initial set of test points\n",
    "5. Join on test points to summarize various statistics of other fields "
   ]
  },
  {
   "cell_type": "code",
   "execution_count": 4,
   "id": "76aaedc3-985f-4e8e-918f-afa6f123741e",
   "metadata": {
    "tags": []
   },
   "outputs": [
    {
     "data": {
      "text/html": [
       "<div>\n",
       "<style scoped>\n",
       "    .dataframe tbody tr th:only-of-type {\n",
       "        vertical-align: middle;\n",
       "    }\n",
       "\n",
       "    .dataframe tbody tr th {\n",
       "        vertical-align: top;\n",
       "    }\n",
       "\n",
       "    .dataframe thead th {\n",
       "        text-align: right;\n",
       "    }\n",
       "</style>\n",
       "<table border=\"1\" class=\"dataframe\">\n",
       "  <thead>\n",
       "    <tr style=\"text-align: right;\">\n",
       "      <th></th>\n",
       "      <th>ETime</th>\n",
       "      <th>End</th>\n",
       "    </tr>\n",
       "  </thead>\n",
       "  <tbody>\n",
       "    <tr>\n",
       "      <th>0</th>\n",
       "      <td>1970-01-01 00:00:00</td>\n",
       "      <td>1970-01-01 00:00:02.000000</td>\n",
       "    </tr>\n",
       "    <tr>\n",
       "      <th>1</th>\n",
       "      <td>1970-01-01 00:00:03</td>\n",
       "      <td>1970-01-01 00:00:18.000000</td>\n",
       "    </tr>\n",
       "    <tr>\n",
       "      <th>2</th>\n",
       "      <td>1970-01-01 00:00:23</td>\n",
       "      <td>1970-01-01 00:00:43.000000</td>\n",
       "    </tr>\n",
       "    <tr>\n",
       "      <th>3</th>\n",
       "      <td>1970-01-01 00:00:45</td>\n",
       "      <td>1970-01-01 00:01:05.000000</td>\n",
       "    </tr>\n",
       "    <tr>\n",
       "      <th>4</th>\n",
       "      <td>1970-01-01 00:01:05</td>\n",
       "      <td>1970-01-01 00:01:12.000000</td>\n",
       "    </tr>\n",
       "    <tr>\n",
       "      <th>...</th>\n",
       "      <td>...</td>\n",
       "      <td>...</td>\n",
       "    </tr>\n",
       "    <tr>\n",
       "      <th>45275</th>\n",
       "      <td>1970-01-01 23:59:47</td>\n",
       "      <td>1970-01-01 23:59:49.000000</td>\n",
       "    </tr>\n",
       "    <tr>\n",
       "      <th>45276</th>\n",
       "      <td>1970-01-01 23:59:49</td>\n",
       "      <td>1970-01-01 23:59:51.000000</td>\n",
       "    </tr>\n",
       "    <tr>\n",
       "      <th>45277</th>\n",
       "      <td>1970-01-01 23:59:53</td>\n",
       "      <td>1970-01-01 23:59:55.000000</td>\n",
       "    </tr>\n",
       "    <tr>\n",
       "      <th>45278</th>\n",
       "      <td>1970-01-01 23:59:57</td>\n",
       "      <td>1970-01-01 23:59:58.000000</td>\n",
       "    </tr>\n",
       "    <tr>\n",
       "      <th>45279</th>\n",
       "      <td>1970-01-01 23:59:58</td>\n",
       "      <td>1970-01-01 23:59:59.999999</td>\n",
       "    </tr>\n",
       "  </tbody>\n",
       "</table>\n",
       "<p>45280 rows × 2 columns</p>\n",
       "</div>"
      ],
      "text/plain": [
       "                    ETime                        End\n",
       "0     1970-01-01 00:00:00 1970-01-01 00:00:02.000000\n",
       "1     1970-01-01 00:00:03 1970-01-01 00:00:18.000000\n",
       "2     1970-01-01 00:00:23 1970-01-01 00:00:43.000000\n",
       "3     1970-01-01 00:00:45 1970-01-01 00:01:05.000000\n",
       "4     1970-01-01 00:01:05 1970-01-01 00:01:12.000000\n",
       "...                   ...                        ...\n",
       "45275 1970-01-01 23:59:47 1970-01-01 23:59:49.000000\n",
       "45276 1970-01-01 23:59:49 1970-01-01 23:59:51.000000\n",
       "45277 1970-01-01 23:59:53 1970-01-01 23:59:55.000000\n",
       "45278 1970-01-01 23:59:57 1970-01-01 23:59:58.000000\n",
       "45279 1970-01-01 23:59:58 1970-01-01 23:59:59.999999\n",
       "\n",
       "[45280 rows x 2 columns]"
      ]
     },
     "execution_count": 4,
     "metadata": {},
     "output_type": "execute_result"
    }
   ],
   "source": [
    "alternating_status = df.take([10,4],'columns') # 10=Time, 7=Duration, 4=UserType\n",
    "alternating_status = alternating_status[alternating_status[\"User Type\"].shift() != alternating_status[\"User Type\"]]\n",
    "alternating_status[\"End\"] = alternating_status[\"ETime\"].shift(-1,fill_value=pd.Timestamp(year=1970,month=1,day=1,hour=23,minute=59,second=59,microsecond=999999))\n",
    "\n",
    "alt_stat = alternating_status[alternating_status[\"User Type\"]=='Subscriber'].copy().drop(columns='User Type').reset_index(drop=True)\n",
    "alt_stat"
   ]
  },
  {
   "cell_type": "markdown",
   "id": "d506da25-1756-47e9-b0b0-e9a1da389aff",
   "metadata": {
    "jp-MarkdownHeadingCollapsed": true,
    "tags": []
   },
   "source": [
    "## Random Subset of Time Periods as Test Points\n",
    "\n",
    "Only run when you need to generate a new body of test points!\n",
    "\n",
    "This link shows methods on how to count values between times. \n",
    "https://stackoverflow.com/questions/45208387/pandas-count-rows-between-in-two-date-columns"
   ]
  },
  {
   "cell_type": "code",
   "execution_count": 301,
   "id": "09cfd0dc-4044-41e9-afe9-3920cc10b515",
   "metadata": {
    "tags": []
   },
   "outputs": [],
   "source": [
    "as2 = alt_stat.sample(n=50).sort_values('ETime',axis='index')\n",
    "as2 = as2.reset_index().rename(columns={'index':'tp_num'})\n",
    "\n",
    "with pd.ExcelWriter('test_points.xlsx', mode='a') as writer:  \n",
    "    as2.to_excel(writer, sheet_name='50 Test Points')\n"
   ]
  },
  {
   "cell_type": "markdown",
   "id": "88dda079-4759-4b74-87e8-91ea83b16fc6",
   "metadata": {},
   "source": [
    "## Import Excel Sheet as Test Point Periods"
   ]
  },
  {
   "cell_type": "code",
   "execution_count": 4,
   "id": "c72bd424-8481-463f-b526-8466666bde50",
   "metadata": {
    "tags": []
   },
   "outputs": [
    {
     "data": {
      "text/html": [
       "<div>\n",
       "<style scoped>\n",
       "    .dataframe tbody tr th:only-of-type {\n",
       "        vertical-align: middle;\n",
       "    }\n",
       "\n",
       "    .dataframe tbody tr th {\n",
       "        vertical-align: top;\n",
       "    }\n",
       "\n",
       "    .dataframe thead th {\n",
       "        text-align: right;\n",
       "    }\n",
       "</style>\n",
       "<table border=\"1\" class=\"dataframe\">\n",
       "  <thead>\n",
       "    <tr style=\"text-align: right;\">\n",
       "      <th></th>\n",
       "      <th>tp_num</th>\n",
       "      <th>ETime</th>\n",
       "      <th>End</th>\n",
       "    </tr>\n",
       "  </thead>\n",
       "  <tbody>\n",
       "    <tr>\n",
       "      <th>0</th>\n",
       "      <td>1</td>\n",
       "      <td>1970-01-01 00:26:09.000</td>\n",
       "      <td>1970-01-01 01:02:09.000</td>\n",
       "    </tr>\n",
       "    <tr>\n",
       "      <th>1</th>\n",
       "      <td>2</td>\n",
       "      <td>1970-01-01 02:02:37.800</td>\n",
       "      <td>1970-01-01 02:38:37.800</td>\n",
       "    </tr>\n",
       "    <tr>\n",
       "      <th>2</th>\n",
       "      <td>3</td>\n",
       "      <td>1970-01-01 03:39:06.600</td>\n",
       "      <td>1970-01-01 04:15:06.600</td>\n",
       "    </tr>\n",
       "    <tr>\n",
       "      <th>3</th>\n",
       "      <td>4</td>\n",
       "      <td>1970-01-01 05:15:35.400</td>\n",
       "      <td>1970-01-01 05:51:35.400</td>\n",
       "    </tr>\n",
       "    <tr>\n",
       "      <th>4</th>\n",
       "      <td>5</td>\n",
       "      <td>1970-01-01 06:52:04.200</td>\n",
       "      <td>1970-01-01 07:28:04.200</td>\n",
       "    </tr>\n",
       "    <tr>\n",
       "      <th>5</th>\n",
       "      <td>6</td>\n",
       "      <td>1970-01-01 08:28:33.000</td>\n",
       "      <td>1970-01-01 09:04:33.000</td>\n",
       "    </tr>\n",
       "    <tr>\n",
       "      <th>6</th>\n",
       "      <td>7</td>\n",
       "      <td>1970-01-01 10:05:01.800</td>\n",
       "      <td>1970-01-01 10:41:01.800</td>\n",
       "    </tr>\n",
       "    <tr>\n",
       "      <th>7</th>\n",
       "      <td>8</td>\n",
       "      <td>1970-01-01 11:41:30.600</td>\n",
       "      <td>1970-01-01 12:17:30.600</td>\n",
       "    </tr>\n",
       "    <tr>\n",
       "      <th>8</th>\n",
       "      <td>9</td>\n",
       "      <td>1970-01-01 13:17:59.400</td>\n",
       "      <td>1970-01-01 13:53:59.400</td>\n",
       "    </tr>\n",
       "    <tr>\n",
       "      <th>9</th>\n",
       "      <td>10</td>\n",
       "      <td>1970-01-01 14:54:28.200</td>\n",
       "      <td>1970-01-01 15:30:28.200</td>\n",
       "    </tr>\n",
       "    <tr>\n",
       "      <th>10</th>\n",
       "      <td>11</td>\n",
       "      <td>1970-01-01 16:30:57.000</td>\n",
       "      <td>1970-01-01 17:06:57.000</td>\n",
       "    </tr>\n",
       "    <tr>\n",
       "      <th>11</th>\n",
       "      <td>12</td>\n",
       "      <td>1970-01-01 18:07:25.800</td>\n",
       "      <td>1970-01-01 18:43:25.800</td>\n",
       "    </tr>\n",
       "    <tr>\n",
       "      <th>12</th>\n",
       "      <td>13</td>\n",
       "      <td>1970-01-01 19:43:54.600</td>\n",
       "      <td>1970-01-01 20:19:54.600</td>\n",
       "    </tr>\n",
       "    <tr>\n",
       "      <th>13</th>\n",
       "      <td>14</td>\n",
       "      <td>1970-01-01 21:20:23.400</td>\n",
       "      <td>1970-01-01 21:56:23.400</td>\n",
       "    </tr>\n",
       "    <tr>\n",
       "      <th>14</th>\n",
       "      <td>15</td>\n",
       "      <td>1970-01-01 22:56:52.200</td>\n",
       "      <td>1970-01-01 23:32:52.200</td>\n",
       "    </tr>\n",
       "  </tbody>\n",
       "</table>\n",
       "</div>"
      ],
      "text/plain": [
       "    tp_num                   ETime                     End\n",
       "0        1 1970-01-01 00:26:09.000 1970-01-01 01:02:09.000\n",
       "1        2 1970-01-01 02:02:37.800 1970-01-01 02:38:37.800\n",
       "2        3 1970-01-01 03:39:06.600 1970-01-01 04:15:06.600\n",
       "3        4 1970-01-01 05:15:35.400 1970-01-01 05:51:35.400\n",
       "4        5 1970-01-01 06:52:04.200 1970-01-01 07:28:04.200\n",
       "5        6 1970-01-01 08:28:33.000 1970-01-01 09:04:33.000\n",
       "6        7 1970-01-01 10:05:01.800 1970-01-01 10:41:01.800\n",
       "7        8 1970-01-01 11:41:30.600 1970-01-01 12:17:30.600\n",
       "8        9 1970-01-01 13:17:59.400 1970-01-01 13:53:59.400\n",
       "9       10 1970-01-01 14:54:28.200 1970-01-01 15:30:28.200\n",
       "10      11 1970-01-01 16:30:57.000 1970-01-01 17:06:57.000\n",
       "11      12 1970-01-01 18:07:25.800 1970-01-01 18:43:25.800\n",
       "12      13 1970-01-01 19:43:54.600 1970-01-01 20:19:54.600\n",
       "13      14 1970-01-01 21:20:23.400 1970-01-01 21:56:23.400\n",
       "14      15 1970-01-01 22:56:52.200 1970-01-01 23:32:52.200"
      ]
     },
     "execution_count": 4,
     "metadata": {},
     "output_type": "execute_result"
    }
   ],
   "source": [
    "as2 = pd.read_excel('test_points.xlsx',sheet_name='Custom Test Points')\n",
    "as2"
   ]
  },
  {
   "cell_type": "markdown",
   "id": "6cc19a68-7908-4425-a3d9-f5f9e1170e3d",
   "metadata": {},
   "source": [
    "## Label rows from the original table that fall between the times in a test point with that point's label"
   ]
  },
  {
   "cell_type": "code",
   "execution_count": 14,
   "id": "0a318000-76af-4aea-87d2-d940a762d19a",
   "metadata": {
    "tags": []
   },
   "outputs": [
    {
     "name": "stdout",
     "output_type": "stream",
     "text": [
      "This loop ran in  0:00:01.867007\n",
      "<class 'pandas.core.frame.DataFrame'>\n",
      "Int64Index: 300000 entries, 1433491 to 899821\n",
      "Data columns (total 13 columns):\n",
      " #   Column         Non-Null Count   Dtype          \n",
      "---  ------         --------------   -----          \n",
      " 0   Start Time     300000 non-null  datetime64[ns] \n",
      " 1   End Time       300000 non-null  datetime64[ns] \n",
      " 2   Start Station  300000 non-null  object         \n",
      " 3   End Station    300000 non-null  object         \n",
      " 4   User Type      300000 non-null  category       \n",
      " 5   Gender         238948 non-null  object         \n",
      " 6   Birth Year     300000 non-null  int32          \n",
      " 7   Duration       300000 non-null  timedelta64[ns]\n",
      " 8   Month          300000 non-null  object         \n",
      " 9   Day            300000 non-null  object         \n",
      " 10  ETime          300000 non-null  datetime64[ns] \n",
      " 11  tp_num         112198 non-null  float64        \n",
      " 12  tp_num_tp      112198 non-null  float64        \n",
      "dtypes: category(1), datetime64[ns](3), float64(2), int32(1), object(5), timedelta64[ns](1)\n",
      "memory usage: 37.0+ MB\n"
     ]
    }
   ],
   "source": [
    "#df.insert(len(df.columns),'minmatchtime',0)\n",
    "#df.head()\n",
    "start2 = datetime.now()\n",
    "tp_df = df.head(1).copy().drop(1433491).reset_index().set_index('ETime')\n",
    "for tp in as2.itertuples():\n",
    "    ndf = df.reset_index().set_index('ETime').between_time(tp[2].time(),tp[3].time(),inclusive='both', axis='index')\n",
    "    ndf['tp_num'] = tp[1]\n",
    "    tp_df = pd.concat([tp_df,ndf])\n",
    "\n",
    "end2 = datetime.now()\n",
    "print('This loop ran in ',(end2-start2))\n",
    "#print(tp_df)\n",
    "new = tp_df.reset_index().set_index('index')\n",
    "df=df.join(new.take([11],axis=1),how='left', rsuffix='_tp')\n",
    "df.info()\n",
    "\n",
    "#df3 = df.take(['10']).compare(alt_stat.take(['1']),keep_equal=True)\n",
    "#df3 = pd.merge_asof(df, alt_stat, on=\"ETime\", direction='backward')\n",
    "#df3"
   ]
  },
  {
   "cell_type": "code",
   "execution_count": 15,
   "id": "aff356f3-f806-46b1-9aa5-3987ee8ea7f6",
   "metadata": {},
   "outputs": [
    {
     "data": {
      "text/plain": [
       "Start Time       292758\n",
       "End Time         291109\n",
       "Start Station       568\n",
       "End Station         572\n",
       "User Type             3\n",
       "Gender                2\n",
       "Birth Year           80\n",
       "Duration           7157\n",
       "Month                 6\n",
       "Day                 181\n",
       "ETime             65880\n",
       "tp_num               15\n",
       "tp_num_tp            15\n",
       "dtype: int64"
      ]
     },
     "execution_count": 15,
     "metadata": {},
     "output_type": "execute_result"
    }
   ],
   "source": [
    "df.nunique()"
   ]
  },
  {
   "cell_type": "code",
   "execution_count": 16,
   "id": "50416155-7e2d-4b09-914f-82587fb560d6",
   "metadata": {},
   "outputs": [
    {
     "data": {
      "text/plain": [
       "array([[<Axes: xlabel='tp_num', ylabel='Avg Duration'>,\n",
       "        <Axes: xlabel='tp_num', ylabel='Avg Duration'>]], dtype=object)"
      ]
     },
     "execution_count": 16,
     "metadata": {},
     "output_type": "execute_result"
    },
    {
     "data": {
      "image/png": "[encoded data removed]",
      "text/plain": [
       "<Figure size 640x480 with 2 Axes>"
      ]
     },
     "metadata": {},
     "output_type": "display_data"
    }
   ],
   "source": [
    "#df_agg = df.agg\n",
    "df_math = df.reset_index().dropna(subset=['tp_num']).set_index(['tp_num','User Type'])\n",
    "df_plot = df_math['Duration'].groupby(level=['tp_num','User Type']).mean().dt.total_seconds()\n",
    "df_plot = df_plot.unstack()\n",
    "#df_plot['colors'] = df_plot['User Type'].cat.rename_categories(1,2)\n",
    "df_plot.reset_index('tp_num').plot.line(x='tp_num',ylabel='Avg Duration',subplots=True,layout=(1,2),title='Average Trip Duration by Customer Type',sharey=True,color={'Customer':'red','Subscriber':'green'})"
   ]
  },
  {
   "cell_type": "code",
   "execution_count": 10,
   "id": "82204044-01e6-4e53-a036-064cbe1356db",
   "metadata": {
    "jupyter": {
     "source_hidden": true
    },
    "tags": []
   },
   "outputs": [
    {
     "data": {
      "image/png": "[encoded data removed]",
      "text/plain": [
       "<Figure size 640x480 with 1 Axes>"
      ]
     },
     "metadata": {},
     "output_type": "display_data"
    },
    {
     "name": "stdout",
     "output_type": "stream",
     "text": [
      "User Type     Customer  Subscriber\n",
      "tp_num                            \n",
      "1.0        1761.139037  742.482003\n",
      "2.0        2774.760000  640.282759\n",
      "3.0        2496.282051  609.451220\n",
      "4.0        2369.133333  612.283610\n",
      "5.0        1718.465347  634.650396\n",
      "6.0        1912.083439  659.335474\n",
      "7.0        1936.579249  698.373996\n",
      "8.0        1945.667214  673.396087\n",
      "9.0        1907.957727  733.315487\n",
      "10.0       1919.856045  725.671636\n",
      "11.0       1791.105659  708.895818\n",
      "12.0       1781.862986  722.419299\n",
      "13.0       1726.311628  695.736286\n",
      "14.0       1900.247074  710.609975\n",
      "15.0       1826.645880  706.037700\n"
     ]
    },
    {
     "data": {
      "text/plain": [
       "<Figure size 640x480 with 0 Axes>"
      ]
     },
     "metadata": {},
     "output_type": "display_data"
    }
   ],
   "source": [
    "fig, ax = plt.subplots()\n",
    "ax.set(title = 'Average Trip Duration by Customer Type',\n",
    "       xlabel = 'tp_num',\n",
    "       ylabel = 'Avg Duration')\n",
    "ax.yaxis.grid()\n",
    "ax.scatter(df_plot.index,df_plot.iloc[:,0],color='r')\n",
    "ax.scatter(df_plot.index,df_plot.iloc[:,1],color='g')\n",
    "plt.show()\n",
    "print(df_plot)\n",
    "plt.savefig('outputs/python_pretty_plot.png')"
   ]
  },
  {
   "cell_type": "markdown",
   "id": "c1ecbea4-995c-4dad-80d5-adc2cf63f19d",
   "metadata": {},
   "source": [
    "## The End: Write all data to an excel sheet for user\n",
    "\n",
    "https://www.geeksforgeeks.org/how-to-write-pandas-dataframes-to-multiple-excel-sheets/"
   ]
  },
  {
   "cell_type": "code",
   "execution_count": 20,
   "id": "606c10dc-acc6-43df-8880-433aeb8ee010",
   "metadata": {
    "tags": []
   },
   "outputs": [],
   "source": [
    "with pd.ExcelWriter(\"outputs/outputs.xlsx\") as writer:\n",
    "   \n",
    "    # use to_excel function and specify the sheet_name and index\n",
    "    # to store the dataframe in specified sheet\n",
    "    as2.to_excel(writer, sheet_name=\"Test Point Periods\")\n",
    "    df.to_excel(writer, sheet_name=\"Labeled Data\")\n",
    "    df_plot.to_excel(writer, sheet_name=\"Durations\", index=True)\n",
    "    #data_frame2.to_excel(writer, sheet_name=\"Vegetables\", index=False)\n",
    "    #data_frame3.to_excel(writer, sheet_name=\"Baked Items\", index=False)"
   ]
  },
  {
   "cell_type": "code",
   "execution_count": null,
   "id": "c29c3320-8a2b-499a-a2fa-3b97499fccad",
   "metadata": {},
   "outputs": [],
   "source": []
  }
 ],
 "metadata": {
  "kernelspec": {
   "display_name": "Python 3 (ipykernel)",
   "language": "python",
   "name": "python3"
  },
  "language_info": {
   "codemirror_mode": {
    "name": "ipython",
    "version": 3
   },
   "file_extension": ".py",
   "mimetype": "text/x-python",
   "name": "python",
   "nbconvert_exporter": "python",
   "pygments_lexer": "ipython3",
   "version": "3.10.3"
  }
 },
 "nbformat": 4,
 "nbformat_minor": 5
}
